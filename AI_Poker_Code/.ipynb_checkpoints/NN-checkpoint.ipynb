{
 "cells": [
  {
   "cell_type": "code",
   "execution_count": 2,
   "metadata": {},
   "outputs": [],
   "source": [
    "from treys import Card\n",
    "from treys import Evaluator\n",
    "from treys import Deck\n",
    "import pickle"
   ]
  },
  {
   "cell_type": "code",
   "execution_count": 4,
   "metadata": {},
   "outputs": [],
   "source": [
    "dict = pickle.load(open(\"dic1.pkl\",\"rb\"))"
   ]
  },
  {
   "cell_type": "code",
   "execution_count": 5,
   "metadata": {},
   "outputs": [],
   "source": [
    "dict = pickle.load(open(\"dic1.pkl\",\"rb\"))\n",
    "dict_hdb = pickle.load(open(\"dic3.pkl\",\"rb\"))"
   ]
  },
  {
   "cell_type": "code",
   "execution_count": 6,
   "metadata": {},
   "outputs": [
    {
     "name": "stdout",
     "output_type": "stream",
     "text": [
      "[['Ac', '2d', '5d'], ['As', '7s'], ['B', 'k'], '4/40', '1080']\n",
      "[['Ac', '2d', '5d', 'Th'], ['As', '7s'], ['r'], '2/360', '1080']\n",
      "[['Ac', '2d', '5d', 'Th', '9d'], ['As', '7s'], ['b'], '2/1080', '1080']\n"
     ]
    }
   ],
   "source": [
    "gamesRL3=[]\n",
    "gamesRL4=[]\n",
    "gamesRL5=[]\n",
    "for i in dict:\n",
    "    for j in range(len(dict[i])):\n",
    "        gamesRL3.append([dict[i][j][2][:3],dict[i][j][10],dict[i][j][3],dict_hdb[dict[i][j][0]][0][4],dict[i][j][9]])\n",
    "        gamesRL4.append([dict[i][j][2][:4],dict[i][j][10],dict[i][j][4],dict_hdb[dict[i][j][0]][0][5],dict[i][j][9]])\n",
    "        gamesRL5.append([dict[i][j][2][:5],dict[i][j][10],dict[i][j][5],dict_hdb[dict[i][j][0]][0][6],dict[i][j][9]])\n",
    "\n",
    "print(gamesRL3[7])\n",
    "print(gamesRL4[7])\n",
    "print(gamesRL5[7])"
   ]
  },
  {
   "cell_type": "code",
   "execution_count": 14,
   "metadata": {},
   "outputs": [],
   "source": [
    "board = [Card.new(gamesRL5[7][0][i]) for i in range(5)]"
   ]
  },
  {
   "cell_type": "code",
   "execution_count": 17,
   "metadata": {},
   "outputs": [
    {
     "name": "stdout",
     "output_type": "stream",
     "text": [
      " [A♣],[2\u001b[31m♦\u001b[0m],[5\u001b[31m♦\u001b[0m],[T\u001b[31m♥\u001b[0m],[9\u001b[31m♦\u001b[0m] \n"
     ]
    }
   ],
   "source": [
    "evaluator = Evaluator()\n",
    "evaluator.evaluate(board,[])\n",
    "print(Card.print_pretty_cards(board))"
   ]
  },
  {
   "cell_type": "code",
   "execution_count": 18,
   "metadata": {},
   "outputs": [],
   "source": [
    "table = []\n",
    "y = []\n",
    "for i in range(len(gamesRL3)):\n",
    "    table.append([gamesRL3[i][2].count('r')+gamesRL3[i][2].count('b'),gamesRL3[i][2].count('c'),gamesRL3[i][2].count('k'),gamesRL3[i][2].count('B'),int(gamesRL3[i][3].split(\"/\")[1])])\n",
    "    y.append(evaluator.evaluate([Card.new(i) for i in gamesRL3[i][0]],[Card.new(i) for i in gamesRL3[i][1]]))"
   ]
  },
  {
   "cell_type": "code",
   "execution_count": 24,
   "metadata": {},
   "outputs": [],
   "source": [
    "from keras.models import Sequential\n",
    "from keras.layers import Dense\n",
    "import numpy as np"
   ]
  },
  {
   "cell_type": "code",
   "execution_count": 25,
   "metadata": {},
   "outputs": [],
   "source": [
    "X = np.array(table)\n",
    "Y = np.array(y)"
   ]
  },
  {
   "cell_type": "code",
   "execution_count": 41,
   "metadata": {},
   "outputs": [],
   "source": [
    "model = Sequential()\n",
    "model.add(Dense(32, input_dim=5, activation='relu',kernel_initializer='normal'))\n",
    "model.add(Dense(8, activation='sigmoid',kernel_initializer='normal'))\n",
    "model.add(Dense(4, activation='relu',kernel_initializer='normal'))\n",
    "model.add(Dense(1,kernel_initializer='normal'))"
   ]
  },
  {
   "cell_type": "code",
   "execution_count": 42,
   "metadata": {},
   "outputs": [],
   "source": [
    "model.compile(loss='mean_squared_error', optimizer='adam')"
   ]
  },
  {
   "cell_type": "code",
   "execution_count": 47,
   "metadata": {},
   "outputs": [
    {
     "name": "stdout",
     "output_type": "stream",
     "text": [
      "Epoch 1/100\n",
      "3507/3507 [==============================] - 0s 59us/step - loss: 2511527.7447\n",
      "Epoch 2/100\n",
      "3507/3507 [==============================] - 0s 53us/step - loss: 2511588.6771\n",
      "Epoch 3/100\n",
      "3507/3507 [==============================] - 0s 54us/step - loss: 2511568.7291\n",
      "Epoch 4/100\n",
      "3507/3507 [==============================] - 0s 59us/step - loss: 2511487.6347\n",
      "Epoch 5/100\n",
      "3507/3507 [==============================] - 0s 54us/step - loss: 2511454.7408\n",
      "Epoch 6/100\n",
      "3507/3507 [==============================] - 0s 56us/step - loss: 2511506.7628\n",
      "Epoch 7/100\n",
      "3507/3507 [==============================] - 0s 55us/step - loss: 2511530.1788\n",
      "Epoch 8/100\n",
      "3507/3507 [==============================] - 0s 53us/step - loss: 2511592.2685\n",
      "Epoch 9/100\n",
      "3507/3507 [==============================] - 0s 54us/step - loss: 2511488.6511\n",
      "Epoch 10/100\n",
      "3507/3507 [==============================] - 0s 55us/step - loss: 2511475.7876\n",
      "Epoch 11/100\n",
      "3507/3507 [==============================] - 0s 53us/step - loss: 2511479.2346\n",
      "Epoch 12/100\n",
      "3507/3507 [==============================] - 0s 54us/step - loss: 2511514.0113\n",
      "Epoch 13/100\n",
      "3507/3507 [==============================] - 0s 54us/step - loss: 2511604.4699\n",
      "Epoch 14/100\n",
      "3507/3507 [==============================] - 0s 54us/step - loss: 2511474.9116\n",
      "Epoch 15/100\n",
      "3507/3507 [==============================] - 0s 54us/step - loss: 2511544.7451\n",
      "Epoch 16/100\n",
      "3507/3507 [==============================] - 0s 53us/step - loss: 2511518.6283\n",
      "Epoch 17/100\n",
      "3507/3507 [==============================] - 0s 53us/step - loss: 2511547.8950\n",
      "Epoch 18/100\n",
      "3507/3507 [==============================] - 0s 53us/step - loss: 2511525.6714\n",
      "Epoch 19/100\n",
      "3507/3507 [==============================] - 0s 53us/step - loss: 2511452.6123\n",
      "Epoch 20/100\n",
      "3507/3507 [==============================] - 0s 54us/step - loss: 2511463.9176\n",
      "Epoch 21/100\n",
      "3507/3507 [==============================] - 0s 54us/step - loss: 2511578.8386\n",
      "Epoch 22/100\n",
      "3507/3507 [==============================] - 0s 53us/step - loss: 2511486.4120\n",
      "Epoch 23/100\n",
      "3507/3507 [==============================] - 0s 54us/step - loss: 2511526.0303\n",
      "Epoch 24/100\n",
      "3507/3507 [==============================] - 0s 55us/step - loss: 2511423.6017\n",
      "Epoch 25/100\n",
      "3507/3507 [==============================] - 0s 54us/step - loss: 2511496.1464\n",
      "Epoch 26/100\n",
      "3507/3507 [==============================] - 0s 54us/step - loss: 2511675.9263\n",
      "Epoch 27/100\n",
      "3507/3507 [==============================] - 0s 54us/step - loss: 2511496.9456\n",
      "Epoch 28/100\n",
      "3507/3507 [==============================] - 0s 54us/step - loss: 2511511.0520\n",
      "Epoch 29/100\n",
      "3507/3507 [==============================] - 0s 54us/step - loss: 2511561.8338\n",
      "Epoch 30/100\n",
      "3507/3507 [==============================] - 0s 53us/step - loss: 2511466.0375\n",
      "Epoch 31/100\n",
      "3507/3507 [==============================] - 0s 53us/step - loss: 2511574.6854\n",
      "Epoch 32/100\n",
      "3507/3507 [==============================] - 0s 53us/step - loss: 2511494.7903\n",
      "Epoch 33/100\n",
      "3507/3507 [==============================] - 0s 56us/step - loss: 2511525.4800\n",
      "Epoch 34/100\n",
      "3507/3507 [==============================] - 0s 66us/step - loss: 2511543.4934\n",
      "Epoch 35/100\n",
      "3507/3507 [==============================] - 0s 56us/step - loss: 2511456.1977\n",
      "Epoch 36/100\n",
      "3507/3507 [==============================] - 0s 56us/step - loss: 2511489.0701\n",
      "Epoch 37/100\n",
      "3507/3507 [==============================] - 0s 54us/step - loss: 2511550.7196\n",
      "Epoch 38/100\n",
      "3507/3507 [==============================] - 0s 55us/step - loss: 2511519.8604\n",
      "Epoch 39/100\n",
      "3507/3507 [==============================] - 0s 64us/step - loss: 2511506.6364\n",
      "Epoch 40/100\n",
      "3507/3507 [==============================] - 0s 71us/step - loss: 2511549.0448\n",
      "Epoch 41/100\n",
      "3507/3507 [==============================] - 0s 60us/step - loss: 2511508.6687\n",
      "Epoch 42/100\n",
      "3507/3507 [==============================] - 0s 57us/step - loss: 2511596.2644\n",
      "Epoch 43/100\n",
      "3507/3507 [==============================] - 0s 65us/step - loss: 2511468.8245\n",
      "Epoch 44/100\n",
      "3507/3507 [==============================] - 0s 73us/step - loss: 2511497.9013\n",
      "Epoch 45/100\n",
      "3507/3507 [==============================] - 0s 69us/step - loss: 2511478.7963\n",
      "Epoch 46/100\n",
      "3507/3507 [==============================] - 0s 56us/step - loss: 2511482.5942\n",
      "Epoch 47/100\n",
      "3507/3507 [==============================] - 0s 58us/step - loss: 2511559.5980\n",
      "Epoch 48/100\n",
      "3507/3507 [==============================] - 0s 59us/step - loss: 2511494.3528\n",
      "Epoch 49/100\n",
      "3507/3507 [==============================] - 0s 57us/step - loss: 2511519.5784\n",
      "Epoch 50/100\n",
      "3507/3507 [==============================] - 0s 55us/step - loss: 2511551.8696\n",
      "Epoch 51/100\n",
      "3507/3507 [==============================] - 0s 58us/step - loss: 2511745.3857\n",
      "Epoch 52/100\n",
      "3507/3507 [==============================] - 0s 65us/step - loss: 2511570.6800\n",
      "Epoch 53/100\n",
      "3507/3507 [==============================] - 0s 58us/step - loss: 2511582.1830\n",
      "Epoch 54/100\n",
      "3507/3507 [==============================] - 0s 54us/step - loss: 2511555.5880\n",
      "Epoch 55/100\n",
      "3507/3507 [==============================] - 0s 55us/step - loss: 2511455.7062\n",
      "Epoch 56/100\n",
      "3507/3507 [==============================] - 0s 64us/step - loss: 2511473.1597\n",
      "Epoch 57/100\n",
      "3507/3507 [==============================] - 0s 54us/step - loss: 2511487.2116\n",
      "Epoch 58/100\n",
      "3507/3507 [==============================] - 0s 54us/step - loss: 2511517.7622\n",
      "Epoch 59/100\n",
      "3507/3507 [==============================] - 0s 54us/step - loss: 2511553.9799\n",
      "Epoch 60/100\n",
      "3507/3507 [==============================] - 0s 54us/step - loss: 2511605.8416\n",
      "Epoch 61/100\n",
      "3507/3507 [==============================] - 0s 54us/step - loss: 2511579.7610\n",
      "Epoch 62/100\n",
      "3507/3507 [==============================] - 0s 53us/step - loss: 2511515.5104\n",
      "Epoch 63/100\n",
      "3507/3507 [==============================] - 0s 54us/step - loss: 2511471.9145\n",
      "Epoch 64/100\n",
      "3507/3507 [==============================] - 0s 54us/step - loss: 2511577.4753\n",
      "Epoch 65/100\n",
      "3507/3507 [==============================] - 0s 54us/step - loss: 2511510.6610\n",
      "Epoch 66/100\n",
      "3507/3507 [==============================] - 0s 54us/step - loss: 2511596.8549\n",
      "Epoch 67/100\n",
      "3507/3507 [==============================] - 0s 54us/step - loss: 2511615.9903\n",
      "Epoch 68/100\n",
      "3507/3507 [==============================] - 0s 54us/step - loss: 2511544.4346\n",
      "Epoch 69/100\n",
      "3507/3507 [==============================] - 0s 55us/step - loss: 2511682.7767\n",
      "Epoch 70/100\n",
      "3507/3507 [==============================] - 0s 54us/step - loss: 2511559.2154\n",
      "Epoch 71/100\n",
      "3507/3507 [==============================] - 0s 54us/step - loss: 2511488.6620\n",
      "Epoch 72/100\n",
      "3507/3507 [==============================] - 0s 54us/step - loss: 2511597.6579\n",
      "Epoch 73/100\n",
      "3507/3507 [==============================] - 0s 54us/step - loss: 2511496.9145\n",
      "Epoch 74/100\n",
      "3507/3507 [==============================] - 0s 54us/step - loss: 2511575.9243\n",
      "Epoch 75/100\n",
      "3507/3507 [==============================] - 0s 55us/step - loss: 2511568.3696\n",
      "Epoch 76/100\n",
      "3507/3507 [==============================] - 0s 54us/step - loss: 2511560.4646\n",
      "Epoch 77/100\n",
      "3507/3507 [==============================] - 0s 54us/step - loss: 2511497.1554\n",
      "Epoch 78/100\n",
      "3507/3507 [==============================] - 0s 54us/step - loss: 2511472.2189\n",
      "Epoch 79/100\n",
      "3507/3507 [==============================] - 0s 54us/step - loss: 2511520.7170\n",
      "Epoch 80/100\n",
      "3507/3507 [==============================] - 0s 54us/step - loss: 2511544.6931\n",
      "Epoch 81/100\n",
      "3507/3507 [==============================] - 0s 54us/step - loss: 2511488.1846\n",
      "Epoch 82/100\n",
      "3507/3507 [==============================] - 0s 57us/step - loss: 2511558.4633\n",
      "Epoch 83/100\n",
      "3507/3507 [==============================] - 0s 55us/step - loss: 2511440.1162\n",
      "Epoch 84/100\n",
      "3507/3507 [==============================] - 0s 54us/step - loss: 2511462.5046\n",
      "Epoch 85/100\n",
      "3507/3507 [==============================] - 0s 54us/step - loss: 2511546.7268\n",
      "Epoch 86/100\n",
      "3507/3507 [==============================] - 0s 55us/step - loss: 2511572.3516\n",
      "Epoch 87/100\n",
      "3507/3507 [==============================] - 0s 54us/step - loss: 2511475.9581\n",
      "Epoch 88/100\n",
      "3507/3507 [==============================] - 0s 55us/step - loss: 2511513.8291\n",
      "Epoch 89/100\n",
      "3507/3507 [==============================] - 0s 54us/step - loss: 2511460.1459\n",
      "Epoch 90/100\n"
     ]
    },
    {
     "name": "stdout",
     "output_type": "stream",
     "text": [
      "3507/3507 [==============================] - 0s 54us/step - loss: 2511465.7618\n",
      "Epoch 91/100\n",
      "3507/3507 [==============================] - 0s 52us/step - loss: 2511515.1354\n",
      "Epoch 92/100\n",
      "3507/3507 [==============================] - 0s 53us/step - loss: 2511504.2695\n",
      "Epoch 93/100\n",
      "3507/3507 [==============================] - 0s 52us/step - loss: 2511496.8203\n",
      "Epoch 94/100\n",
      "3507/3507 [==============================] - 0s 53us/step - loss: 2511509.8536\n",
      "Epoch 95/100\n",
      "3507/3507 [==============================] - 0s 52us/step - loss: 2511515.8157\n",
      "Epoch 96/100\n",
      "3507/3507 [==============================] - 0s 52us/step - loss: 2511691.5294\n",
      "Epoch 97/100\n",
      "3507/3507 [==============================] - 0s 52us/step - loss: 2511493.4096\n",
      "Epoch 98/100\n",
      "3507/3507 [==============================] - 0s 52us/step - loss: 2511443.7524\n",
      "Epoch 99/100\n",
      "3507/3507 [==============================] - 0s 52us/step - loss: 2511465.0623\n",
      "Epoch 100/100\n",
      "3507/3507 [==============================] - 0s 52us/step - loss: 2511583.6317\n"
     ]
    },
    {
     "data": {
      "text/plain": [
       "<keras.callbacks.History at 0x183029c518>"
      ]
     },
     "execution_count": 47,
     "metadata": {},
     "output_type": "execute_result"
    }
   ],
   "source": [
    "model.fit(X, Y, epochs=100, batch_size=50)"
   ]
  },
  {
   "cell_type": "code",
   "execution_count": 48,
   "metadata": {},
   "outputs": [],
   "source": [
    "X_test = [[0,1,1,0,560]]\n",
    "X_test = np.array(X_test)"
   ]
  },
  {
   "cell_type": "code",
   "execution_count": 49,
   "metadata": {},
   "outputs": [
    {
     "data": {
      "text/plain": [
       "array([[5208.7686]], dtype=float32)"
      ]
     },
     "execution_count": 49,
     "metadata": {},
     "output_type": "execute_result"
    }
   ],
   "source": [
    "predictions = model.predict(X_test)\n",
    "predictions"
   ]
  }
 ],
 "metadata": {
  "kernelspec": {
   "display_name": "Python 3",
   "language": "python",
   "name": "python3"
  },
  "language_info": {
   "codemirror_mode": {
    "name": "ipython",
    "version": 3
   },
   "file_extension": ".py",
   "mimetype": "text/x-python",
   "name": "python",
   "nbconvert_exporter": "python",
   "pygments_lexer": "ipython3",
   "version": "3.6.4"
  }
 },
 "nbformat": 4,
 "nbformat_minor": 2
}
