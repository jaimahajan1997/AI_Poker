{
 "cells": [
  {
   "cell_type": "code",
   "execution_count": 1,
   "metadata": {},
   "outputs": [],
   "source": [
    "from treys import Card\n",
    "from treys import Evaluator\n",
    "from treys import Deck"
   ]
  },
  {
   "cell_type": "code",
   "execution_count": 2,
   "metadata": {},
   "outputs": [
    {
     "name": "stdout",
     "output_type": "stream",
     "text": [
      "[98306, 1057803, 1053707, 67127839, 279045]\n"
     ]
    }
   ],
   "source": [
    "deck = Deck()\n",
    "board = deck.draw(5)\n",
    "p1 = deck.draw(2)\n",
    "p2 = deck.draw(2)\n",
    "p3 = deck.draw(2)\n",
    "p4 = deck.draw(2)\n",
    "p5 = deck.draw(2)\n",
    "\n",
    "print(board)"
   ]
  },
  {
   "cell_type": "code",
   "execution_count": 3,
   "metadata": {},
   "outputs": [
    {
     "name": "stdout",
     "output_type": "stream",
     "text": [
      " [2♣],[6\u001b[31m♥\u001b[0m],[6♠],[Q\u001b[31m♦\u001b[0m],[4\u001b[31m♦\u001b[0m] \n",
      " [4\u001b[31m♥\u001b[0m],[K♣] \n",
      " [A♣],[J\u001b[31m♥\u001b[0m] \n",
      " [J♣],[A♠] \n",
      " [3♣],[3♠] \n",
      " [7\u001b[31m♥\u001b[0m],[T♠] \n"
     ]
    }
   ],
   "source": [
    "print(Card.print_pretty_cards(board))\n",
    "print(Card.print_pretty_cards(p1))\n",
    "print(Card.print_pretty_cards(p2))\n",
    "print(Card.print_pretty_cards(p3))\n",
    "print(Card.print_pretty_cards(p4))\n",
    "print(Card.print_pretty_cards(p5))"
   ]
  },
  {
   "cell_type": "code",
   "execution_count": 4,
   "metadata": {},
   "outputs": [
    {
     "name": "stdout",
     "output_type": "stream",
     "text": [
      " [Q\u001b[31m♥\u001b[0m] \n"
     ]
    }
   ],
   "source": [
    "card1 = Card.new(\"Qh\")\n",
    "print(Card.print_pretty_cards([card1]))"
   ]
  },
  {
   "cell_type": "code",
   "execution_count": 5,
   "metadata": {},
   "outputs": [],
   "source": [
    "evaluator = Evaluator()\n",
    "p1_score = evaluator.evaluate(board, p1)\n",
    "p2_score = evaluator.evaluate(board, p2)\n",
    "p3_score = evaluator.evaluate(board, p3)\n",
    "p4_score = evaluator.evaluate(board, p4)\n",
    "p5_score = evaluator.evaluate(board, p5)\n",
    "scores  = [p1_score,p2_score,p3_score,p4_score,p5_score]\n",
    "\n",
    "# x = deck.draw(0)\n",
    "# print(evaluator.evaluate(x,p1))\n",
    "# print(evaluator.evaluate(x,p2))\n",
    "# print(evaluator.evaluate(x,p3))\n",
    "# print(evaluator.evaluate(x,p4))\n",
    "# print(evaluator.evaluate(x,p5))\n",
    "\n",
    "\n",
    "p1_class = evaluator.get_rank_class(p1_score)\n",
    "p2_class = evaluator.get_rank_class(p2_score)\n",
    "p3_class = evaluator.get_rank_class(p3_score)\n",
    "p4_class = evaluator.get_rank_class(p4_score)\n",
    "p5_class = evaluator.get_rank_class(p5_score)\n",
    "classes  = [p1_class,p2_class,p3_class,p4_class,p5_class]"
   ]
  },
  {
   "cell_type": "code",
   "execution_count": 6,
   "metadata": {},
   "outputs": [
    {
     "name": "stdout",
     "output_type": "stream",
     "text": [
      "Two Pair\n",
      "Pair\n",
      "Pair\n",
      "Two Pair\n",
      "Pair\n"
     ]
    }
   ],
   "source": [
    "print(evaluator.class_to_string(p1_class))\n",
    "print(evaluator.class_to_string(p2_class))\n",
    "print(evaluator.class_to_string(p3_class))\n",
    "print(evaluator.class_to_string(p4_class))\n",
    "print(evaluator.class_to_string(p5_class))"
   ]
  },
  {
   "cell_type": "code",
   "execution_count": 25,
   "metadata": {},
   "outputs": [
    {
     "name": "stdout",
     "output_type": "stream",
     "text": [
      "6561\n",
      "4893\n",
      "4868\n",
      "6554\n",
      "2559\n",
      "The winner is player number 5 with the hand Two Pair\n"
     ]
    }
   ],
   "source": [
    "print(p1_score)\n",
    "print(p2_score)\n",
    "print(p3_score)\n",
    "print(p4_score)\n",
    "print(p5_score)\n",
    "ind = scores.index(min(scores))\n",
    "print(\"The winner is player number\", ind+1,\"with the hand\", evaluator.class_to_string(classes[ind]))"
   ]
  },
  {
   "cell_type": "code",
   "execution_count": 44,
   "metadata": {},
   "outputs": [
    {
     "name": "stdout",
     "output_type": "stream",
     "text": [
      " [A\u001b[31m♦\u001b[0m],[Q♠],[A♣] \n"
     ]
    },
    {
     "ename": "TypeError",
     "evalue": "'int' object is not iterable",
     "output_type": "error",
     "traceback": [
      "\u001b[0;31m---------------------------------------------------------------------------\u001b[0m",
      "\u001b[0;31mTypeError\u001b[0m                                 Traceback (most recent call last)",
      "\u001b[0;32m<ipython-input-44-9acb11de5d24>\u001b[0m in \u001b[0;36m<module>\u001b[0;34m()\u001b[0m\n\u001b[1;32m      2\u001b[0m \u001b[0mflop\u001b[0m \u001b[0;34m=\u001b[0m \u001b[0mdeck1\u001b[0m\u001b[0;34m.\u001b[0m\u001b[0mdraw\u001b[0m\u001b[0;34m(\u001b[0m\u001b[0;36m3\u001b[0m\u001b[0;34m)\u001b[0m\u001b[0;34m\u001b[0m\u001b[0m\n\u001b[1;32m      3\u001b[0m \u001b[0mprint\u001b[0m\u001b[0;34m(\u001b[0m\u001b[0mCard\u001b[0m\u001b[0;34m.\u001b[0m\u001b[0mprint_pretty_cards\u001b[0m\u001b[0;34m(\u001b[0m\u001b[0mflop\u001b[0m\u001b[0;34m)\u001b[0m\u001b[0;34m)\u001b[0m\u001b[0;34m\u001b[0m\u001b[0m\n\u001b[0;32m----> 4\u001b[0;31m \u001b[0mturn\u001b[0m \u001b[0;34m=\u001b[0m \u001b[0mflop\u001b[0m \u001b[0;34m+\u001b[0m \u001b[0mlist\u001b[0m\u001b[0;34m(\u001b[0m\u001b[0mdeck1\u001b[0m\u001b[0;34m.\u001b[0m\u001b[0mdraw\u001b[0m\u001b[0;34m(\u001b[0m\u001b[0;36m1\u001b[0m\u001b[0;34m)\u001b[0m\u001b[0;34m)\u001b[0m\u001b[0;34m\u001b[0m\u001b[0m\n\u001b[0m\u001b[1;32m      5\u001b[0m \u001b[0mprint\u001b[0m\u001b[0;34m(\u001b[0m\u001b[0mCard\u001b[0m\u001b[0;34m.\u001b[0m\u001b[0mprint_pretty_cards\u001b[0m\u001b[0;34m(\u001b[0m\u001b[0mturn\u001b[0m\u001b[0;34m)\u001b[0m\u001b[0;34m)\u001b[0m\u001b[0;34m\u001b[0m\u001b[0m\n\u001b[1;32m      6\u001b[0m \u001b[0mriver\u001b[0m \u001b[0;34m=\u001b[0m \u001b[0mturn\u001b[0m \u001b[0;34m+\u001b[0m \u001b[0mlist\u001b[0m\u001b[0;34m(\u001b[0m\u001b[0mdeck1\u001b[0m\u001b[0;34m.\u001b[0m\u001b[0mdraw\u001b[0m\u001b[0;34m(\u001b[0m\u001b[0;36m1\u001b[0m\u001b[0;34m)\u001b[0m\u001b[0;34m)\u001b[0m\u001b[0;34m\u001b[0m\u001b[0m\n",
      "\u001b[0;31mTypeError\u001b[0m: 'int' object is not iterable"
     ]
    }
   ],
   "source": [
    "deck1 = Deck()\n",
    "flop = deck1.draw(3)\n",
    "print(Card.print_pretty_cards(flop))\n",
    "turn = flop + list(deck1.draw(1))\n",
    "print(Card.print_pretty_cards(turn))\n",
    "river = turn + list(deck1.draw(1))\n",
    "print(Card.print_pretty_cards(river))"
   ]
  },
  {
   "cell_type": "code",
   "execution_count": 103,
   "metadata": {},
   "outputs": [
    {
     "name": "stdout",
     "output_type": "stream",
     "text": [
      "Current player is 3\n",
      "Enter 1 ,2 or 33\n",
      "Current player is 4\n",
      "Enter 1 ,2 or 31\n",
      "nothing\n",
      "Current player is 5\n",
      "Enter 1 ,2 or 31\n",
      "nothing\n",
      "Current player is 6\n",
      "Enter 1 ,2 or 31\n",
      "nothing\n",
      "Current player is 7\n",
      "Enter 1 ,2 or 32\n",
      "Current player is 8\n",
      "Enter 1 ,2 or 32\n",
      "Current player is 0\n",
      "Enter 1 ,2 or 31\n",
      "nothing\n",
      "Current player is 1\n",
      "Enter 1 ,2 or 31\n",
      "nothing\n",
      "Current player is 2\n",
      "Enter 1 ,2 or 31\n",
      "nothing\n",
      "[3, 4, 5, 6, 0, 1, 2]\n"
     ]
    }
   ],
   "source": [
    "## Betting Round Algorithm\n",
    "\n",
    "x = [3,4,5,6,7,8,0,1,2]\n",
    "maxbet = x[0]\n",
    "i = 0\n",
    "while True:\n",
    "    print(\"Current player is\",x[i])\n",
    "    ans = input(\"Enter 1 ,2 or 3\")\n",
    "    if(ans=='1'):\n",
    "        print(\"nothing\")\n",
    "    elif(ans=='2'):\n",
    "        x.remove(x[i])\n",
    "        i = i-1\n",
    "    else:\n",
    "        maxbet=x[i]\n",
    "    if i<len(x)-1 and x[i+1]==maxbet:\n",
    "        break\n",
    "    elif(i==len(x)-1 and x[0]==maxbet):\n",
    "        break\n",
    "    else:\n",
    "        i = i+1\n",
    "        if(i>=len(x)):\n",
    "            i=0   \n",
    "        \n",
    "print(x)    "
   ]
  },
  {
   "cell_type": "code",
   "execution_count": 47,
   "metadata": {},
   "outputs": [],
   "source": [
    "bluff = 20\n",
    "call = 60\n",
    "rais = 40"
   ]
  },
  {
   "cell_type": "code",
   "execution_count": null,
   "metadata": {},
   "outputs": [
    {
     "name": "stdout",
     "output_type": "stream",
     "text": [
      "Player no: 4 Currently Betting: 100 Available Balance: 2900 Curent Bet: 100\n"
     ]
    }
   ],
   "source": [
    "from random import randint\n",
    "pokerDeck = Deck()\n",
    "noOfPlayers = 5\n",
    "initialAmount = 3000\n",
    "money = [initialAmount for i in range(noOfPlayers)]\n",
    "playerInd = []\n",
    "\n",
    "#pre flop\n",
    "blind = randint(0,noOfPlayers-1) \n",
    "for i in range(blind,noOfPlayers):\n",
    "    playerInd.append(i)\n",
    "for i in range(blind):\n",
    "    playerInd.append(i)\n",
    "    \n",
    "flop_amt = 100\n",
    "curBet = flop_amt\n",
    "money[blind]-=curBet\n",
    "maxBet = playerInd[0]\n",
    "i = 0\n",
    "while True:\n",
    "    if playerInd[i]!=blind:\n",
    "        print(\"Player no:\",playerInd[i],\"Currently Betting: 0 Available Balance:\",money[playerInd[i]],\"Curent Bet:\",curBet)\n",
    "    else:\n",
    "        print(\"Player no:\",playerInd[i],\"Currently Betting:\",curBet,\"Available Balance:\",money[playerInd[i]],\"Curent Bet:\",curBet)\n",
    "    ans = input(\"Do you want to 1) Call 2) Fold 3) Raise\")\n",
    "    if(ans=='1'):\n",
    "        print(\"Player\",playerInd[i],\"Calls\")\n",
    "        if not(i==blind and curBet==flop_amt):\n",
    "            money[playerInd[i]]-=curBet\n",
    "    elif(ans=='2'):\n",
    "        print(\"Player\",playerInd[i],\"Folds\")\n",
    "        playerInd.remove(playerInd[i])\n",
    "        i = i-1\n",
    "    else:\n",
    "        while True:\n",
    "            amt=int(input(\"How much do you want to raise by?\"))\n",
    "            if(amt<=money[playerInd[i]]):\n",
    "                break\n",
    "            else:\n",
    "                print(\"Amount entered is more then available balance, enter again!\")\n",
    "        curBet=amt\n",
    "        money[playerInd[i]]-=amt\n",
    "        maxBet = playerInd[i]\n",
    "    if (i<len(playerInd)-1 and playerInd[i+1]==maxBet):\n",
    "        print(\"Ending\")\n",
    "        break\n",
    "    elif (i==len(playerInd)-1 and playerInd[0]==maxBet): \n",
    "        break\n",
    "    else:\n",
    "        i = i+1\n",
    "        if(i>=len(playerInd)):\n",
    "            i=0  \n",
    "            \n",
    "print(playerInd)            "
   ]
  }
 ],
 "metadata": {
  "kernelspec": {
   "display_name": "Python 3",
   "language": "python",
   "name": "python3"
  },
  "language_info": {
   "codemirror_mode": {
    "name": "ipython",
    "version": 3
   },
   "file_extension": ".py",
   "mimetype": "text/x-python",
   "name": "python",
   "nbconvert_exporter": "python",
   "pygments_lexer": "ipython3",
   "version": "3.6.4"
  }
 },
 "nbformat": 4,
 "nbformat_minor": 2
}
