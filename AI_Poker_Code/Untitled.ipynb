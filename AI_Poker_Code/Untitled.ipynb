{
 "cells": [
  {
   "cell_type": "code",
   "execution_count": 4,
   "metadata": {},
   "outputs": [],
   "source": [
    "import numpy as np\n",
    "import pickle"
   ]
  },
  {
   "cell_type": "code",
   "execution_count": 5,
   "metadata": {},
   "outputs": [],
   "source": [
    "dict = pickle.load(open(\"dic1.pkl\",\"rb\"))\n",
    "dict_hdb = pickle.load(open(\"dic3.pkl\",\"rb\"))"
   ]
  },
  {
   "cell_type": "code",
   "execution_count": 8,
   "metadata": {},
   "outputs": [
    {
     "name": "stdout",
     "output_type": "stream",
     "text": [
      "[['Ac', '2d', '5d'], ['As', '7s'], ['B', 'k'], '4/40', '1080']\n",
      "[['Ac', '2d', '5d', 'Th'], ['As', '7s'], ['r'], '2/360', '1080']\n",
      "[['Ac', '2d', '5d', 'Th', '9d'], ['As', '7s'], ['b'], '2/1080', '1080']\n"
     ]
    }
   ],
   "source": [
    "gamesRL3=[]\n",
    "gamesRL4=[]\n",
    "gamesRL5=[]\n",
    "for i in dict:\n",
    "    for j in range(len(dict[i])):\n",
    "        gamesRL3.append([dict[i][j][2][:3],dict[i][j][10],dict[i][j][3],dict_hdb[dict[i][j][0]][0][4],dict[i][j][9]])\n",
    "        gamesRL4.append([dict[i][j][2][:4],dict[i][j][10],dict[i][j][4],dict_hdb[dict[i][j][0]][0][5],dict[i][j][9]])\n",
    "        gamesRL5.append([dict[i][j][2][:5],dict[i][j][10],dict[i][j][5],dict_hdb[dict[i][j][0]][0][6],dict[i][j][9]])\n",
    "\n",
    "print(gamesRL3[7])\n",
    "print(gamesRL4[7])\n",
    "print(gamesRL5[7])"
   ]
  },
  {
   "cell_type": "code",
   "execution_count": null,
   "metadata": {},
   "outputs": [],
   "source": []
  }
 ],
 "metadata": {
  "kernelspec": {
   "display_name": "Python 3",
   "language": "python",
   "name": "python3"
  },
  "language_info": {
   "codemirror_mode": {
    "name": "ipython",
    "version": 3
   },
   "file_extension": ".py",
   "mimetype": "text/x-python",
   "name": "python",
   "nbconvert_exporter": "python",
   "pygments_lexer": "ipython3",
   "version": "3.6.4"
  }
 },
 "nbformat": 4,
 "nbformat_minor": 2
}
