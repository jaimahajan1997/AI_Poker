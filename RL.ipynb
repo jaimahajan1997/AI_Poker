{
 "cells": [
  {
   "cell_type": "code",
   "execution_count": 1,
   "metadata": {},
   "outputs": [
    {
     "name": "stderr",
     "output_type": "stream",
     "text": [
      "/anaconda3/lib/python3.6/site-packages/h5py/__init__.py:36: FutureWarning: Conversion of the second argument of issubdtype from `float` to `np.floating` is deprecated. In future, it will be treated as `np.float64 == np.dtype(float).type`.\n",
      "  from ._conv import register_converters as _register_converters\n",
      "Using TensorFlow backend.\n"
     ]
    }
   ],
   "source": [
    "import numpy\n",
    "import keras\n",
    "from keras.models import Sequential\n",
    "from keras.layers import Dense"
   ]
  },
  {
   "cell_type": "code",
   "execution_count": 2,
   "metadata": {},
   "outputs": [],
   "source": [
    "import pickle"
   ]
  },
  {
   "cell_type": "code",
   "execution_count": 6,
   "metadata": {},
   "outputs": [],
   "source": [
    "dict = pickle.load(open(\"dic1.pkl\",\"rb\"))"
   ]
  },
  {
   "cell_type": "code",
   "execution_count": 40,
   "metadata": {},
   "outputs": [
    {
     "name": "stdout",
     "output_type": "stream",
     "text": [
      "['820309920', '6', ['Qs', 'Ad', '9h', 'Jd', 'Qc'], ['c'], ['b', 'c'], ['k', 'c'], ['k', 'c', 'A'], '3039', '3039', '0', ['Th', 'Kd']]\n"
     ]
    }
   ],
   "source": [
    "print(dict[\"munch[0]\"][1])"
   ]
  },
  {
   "cell_type": "code",
   "execution_count": 37,
   "metadata": {},
   "outputs": [],
   "source": [
    "games = []\n",
    "for i in dict:\n",
    "    for j in range(len(dict[i])):\n",
    "        games.append([dict[i][j][2],dict[i][j][-1],int(dict[i][j][-2]),int(dict[i][j][-2])-int(dict[i][j][-3])])"
   ]
  },
  {
   "cell_type": "code",
   "execution_count": 56,
   "metadata": {},
   "outputs": [
    {
     "name": "stdout",
     "output_type": "stream",
     "text": [
      "[['7c', 'Kc', 'Ah'], ['Kh', 'Qh'], ['r'], '3/110', '110']\n",
      "[['7c', 'Kc', 'Ah', 'As'], ['Kh', 'Qh'], ['k'], '3/110', '110']\n",
      "[['7c', 'Kc', 'Ah', 'As', '2c'], ['Kh', 'Qh'], ['k'], '3/110', '110']\n"
     ]
    }
   ],
   "source": [
    "gamesRL3 = []\n",
    "gamesRL4=[]\n",
    "gamesRL5=[]\n",
    "dict_hdb = pickle.load(open(\"dic3.pkl\",\"rb\"))\n",
    "for i in dict:\n",
    "    for j in range(len(dict[i])):\n",
    "        gamesRL3.append([dict[i][j][2][:3],dict[i][j][10],dict[i][j][3],dict_hdb[dict[i][j][0]][0][4],dict[i][j][9]])\n",
    "        gamesRL4.append([dict[i][j][2][:4],dict[i][j][10],dict[i][j][4],dict_hdb[dict[i][j][0]][0][5],dict[i][j][9]])\n",
    "        gamesRL5.append([dict[i][j][2][:5],dict[i][j][10],dict[i][j][5],dict_hdb[dict[i][j][0]][0][6],dict[i][j][9]])\n",
    "# print(len(gamesRL3))\n",
    "# print(len(gamesRL4))\n",
    "# print(gamesRL5[:2])\n",
    "print(gamesRL3[0])\n",
    "print(gamesRL4[0])\n",
    "print(gamesRL5[0])"
   ]
  },
  {
   "cell_type": "code",
   "execution_count": 28,
   "metadata": {},
   "outputs": [
    {
     "name": "stdout",
     "output_type": "stream",
     "text": [
      "2\n",
      "35\n",
      "15\n",
      "6\n",
      "2\n",
      "40\n",
      "91\n",
      "5\n",
      "15\n",
      "88\n",
      "10\n",
      "6\n",
      "112\n",
      "27\n",
      "1\n",
      "62\n",
      "1\n",
      "29\n",
      "36\n",
      "26\n",
      "14\n",
      "13\n",
      "4\n",
      "46\n",
      "26\n",
      "69\n",
      "267\n",
      "12\n",
      "21\n",
      "1\n",
      "25\n",
      "8\n",
      "19\n",
      "1\n",
      "95\n",
      "33\n",
      "25\n",
      "10\n",
      "58\n",
      "28\n",
      "24\n",
      "4\n",
      "7\n",
      "75\n",
      "19\n",
      "52\n",
      "150\n",
      "7\n",
      "102\n",
      "2\n",
      "39\n",
      "4\n",
      "211\n",
      "12\n",
      "52\n",
      "132\n",
      "56\n",
      "41\n",
      "26\n",
      "20\n",
      "49\n",
      "49\n",
      "15\n",
      "78\n",
      "32\n",
      "7\n",
      "5\n",
      "2\n",
      "60\n",
      "100\n",
      "58\n",
      "86\n",
      "5\n",
      "18\n",
      "39\n",
      "1\n",
      "6\n",
      "228\n",
      "3\n",
      "20\n",
      "18\n",
      "3\n",
      "6\n",
      "1\n",
      "1\n",
      "3\n",
      "7\n",
      "4\n",
      "1\n",
      "167\n",
      "5\n",
      "2\n",
      "9\n"
     ]
    }
   ],
   "source": [
    "for i in dict:\n",
    "    print(len(dict[i]))"
   ]
  },
  {
   "cell_type": "code",
   "execution_count": null,
   "metadata": {},
   "outputs": [],
   "source": []
  }
 ],
 "metadata": {
  "kernelspec": {
   "display_name": "Python 3",
   "language": "python",
   "name": "python3"
  },
  "language_info": {
   "codemirror_mode": {
    "name": "ipython",
    "version": 3
   },
   "file_extension": ".py",
   "mimetype": "text/x-python",
   "name": "python",
   "nbconvert_exporter": "python",
   "pygments_lexer": "ipython3",
   "version": "3.6.4"
  }
 },
 "nbformat": 4,
 "nbformat_minor": 2
}
